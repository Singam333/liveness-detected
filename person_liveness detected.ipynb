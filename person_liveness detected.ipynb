{
 "cells": [
  {
   "cell_type": "code",
   "execution_count": 6,
   "metadata": {},
   "outputs": [
    {
     "name": "stdout",
     "output_type": "stream",
     "text": [
      " 2 face trained\n"
     ]
    }
   ],
   "source": [
    "import numpy as np\n",
    "import cv2\n",
    "from PIL import Image\n",
    "import os\n",
    "path = 'db'\n",
    "recognizer = cv2.face.LBPHFaceRecognizer_create()\n",
    "detector = cv2.CascadeClassifier(\"C:\\\\Users\\Sinagam Pradeep\\Anaconda3\\Lib\\site-packages\\cv2\\data\\haarcascade_frontalface_default.xml\");\n",
    "# function to get the images and label data\n",
    "def getImagesAndLabels(path):\n",
    "    imagePaths = [os.path.join(path,f) for f in os.listdir(path)]     \n",
    "    faceSamples=[]\n",
    "    ids = []\n",
    "    for imagePath in imagePaths:\n",
    "        PIL_img = Image.open(imagePath).convert('L') \n",
    "        img_numpy = np.array(PIL_img,'uint8')\n",
    "        id = int(os.path.split(imagePath)[-1].split(\".\")[1])\n",
    "        faces = detector.detectMultiScale(img_numpy)\n",
    "        for (x,y,w,h) in faces:\n",
    "            faceSamples.append(img_numpy[y:y+h,x:x+w])\n",
    "            ids.append(id)\n",
    "    return faceSamples,ids\n",
    "faces,ids = getImagesAndLabels(path)\n",
    "recognizer.train(faces, np.array(ids))\n",
    "# Save the model into trainer/trainer.yml\n",
    "recognizer.write('trainer/trainer.yml') \n",
    "# Print the numer of faces trained and end program\n",
    "print(\" {0} face trained\".format(len(np.unique(ids))))"
   ]
  },
  {
   "cell_type": "code",
   "execution_count": 7,
   "metadata": {},
   "outputs": [
    {
     "name": "stdout",
     "output_type": "stream",
     "text": [
      "Requirement already satisfied: imageai in c:\\users\\sinagam pradeep\\anaconda3\\lib\\site-packages (2.1.5)\n",
      "Requirement already satisfied: numpy in c:\\users\\sinagam pradeep\\anaconda3\\lib\\site-packages (from imageai) (1.16.4)\n",
      "Requirement already satisfied: matplotlib in c:\\users\\sinagam pradeep\\anaconda3\\lib\\site-packages (from imageai) (3.1.0)\n",
      "Requirement already satisfied: h5py in c:\\users\\sinagam pradeep\\anaconda3\\lib\\site-packages (from imageai) (2.9.0)\n",
      "Requirement already satisfied: scipy in c:\\users\\sinagam pradeep\\anaconda3\\lib\\site-packages (from imageai) (1.4.1)\n",
      "Requirement already satisfied: pillow in c:\\users\\sinagam pradeep\\anaconda3\\lib\\site-packages (from imageai) (6.1.0)\n",
      "Requirement already satisfied: cycler>=0.10 in c:\\users\\sinagam pradeep\\anaconda3\\lib\\site-packages (from matplotlib->imageai) (0.10.0)\n",
      "Requirement already satisfied: kiwisolver>=1.0.1 in c:\\users\\sinagam pradeep\\anaconda3\\lib\\site-packages (from matplotlib->imageai) (1.1.0)\n",
      "Requirement already satisfied: pyparsing!=2.0.4,!=2.1.2,!=2.1.6,>=2.0.1 in c:\\users\\sinagam pradeep\\anaconda3\\lib\\site-packages (from matplotlib->imageai) (2.4.0)\n",
      "Requirement already satisfied: python-dateutil>=2.1 in c:\\users\\sinagam pradeep\\anaconda3\\lib\\site-packages (from matplotlib->imageai) (2.8.0)\n",
      "Requirement already satisfied: six in c:\\users\\sinagam pradeep\\anaconda3\\lib\\site-packages (from h5py->imageai) (1.12.0)\n",
      "Requirement already satisfied: setuptools in c:\\users\\sinagam pradeep\\anaconda3\\lib\\site-packages (from kiwisolver>=1.0.1->matplotlib->imageai) (41.0.1)\n"
     ]
    }
   ],
   "source": [
    "!pip install imageai"
   ]
  },
  {
   "cell_type": "code",
   "execution_count": 8,
   "metadata": {},
   "outputs": [],
   "source": [
    "recognizer = cv2.face.LBPHFaceRecognizer_create()\n",
    "recognizer.read('trainer/trainer.yml')\n",
    "faceCascade = cv2.CascadeClassifier(\"C:\\\\Users\\Sinagam Pradeep\\Anaconda3\\Lib\\site-packages\\cv2\\data\\haarcascade_frontalface_default.xml\");\n",
    "font = cv2.FONT_HERSHEY_SIMPLEX\n",
    "from imageai.Detection import VideoObjectDetection\n",
    "import os\n",
    "path = os.getcwd()\n",
    "# Initialize and start realtime video capture\n",
    "cam = cv2.VideoCapture(0)\n",
    "ids=[333,150]\n",
    "name=[\"pradeep\",\"no liveness detected\"]\n",
    "while True:\n",
    "    ret, img =cam.read()\n",
    "   \n",
    "    gray = cv2.cvtColor(img,cv2.COLOR_BGR2GRAY)\n",
    "    faces = faceCascade.detectMultiScale( \n",
    "        gray,\n",
    "        scaleFactor = 1.2,\n",
    "        minNeighbors = 5,\n",
    "       )\n",
    "    if(len(faces)==0):\n",
    "        cv2.putText(\n",
    "                    img, \n",
    "                    \"NO Person\", \n",
    "            (40,20),font, \n",
    "                    1, \n",
    "                    (255,255,255), \n",
    "                    2)\n",
    "\n",
    "    for(x,y,w,h) in faces:\n",
    "        cv2.rectangle(img, (x,y), (x+w,y+h), (0,255,0), 2)\n",
    "        id, confidence = recognizer.predict(gray[y:y+h,x:x+w])\n",
    "        if(confidence<60 or confidence>75):\n",
    "        \n",
    "                cv2.putText(\n",
    "                    img, \n",
    "                    name[ids.index(id)], \n",
    "                    (x+5,y-5), \n",
    "                    font, \n",
    "                    1, \n",
    "                    (255,255,255), \n",
    "                    2\n",
    "                   )\n",
    "\n",
    "        else:\n",
    "            cv2.putText(\n",
    "                    img, \n",
    "                    \"Another Person Detected\", \n",
    "                    (x+5,y-5), \n",
    "                    font, \n",
    "                    1, \n",
    "                    (255,255,255), \n",
    "                    2\n",
    "                   )\n",
    "\n",
    "    cv2.imshow('camera',img)\n",
    "    key=cv2.waitKey(1) \n",
    "    if(key==ord(\"s\")): \n",
    "        break\n",
    "cam.release()\n",
    "cv2.destroyAllWindows()"
   ]
  }
 ],
 "metadata": {
  "kernelspec": {
   "display_name": "Python 3",
   "language": "python",
   "name": "python3"
  },
  "language_info": {
   "codemirror_mode": {
    "name": "ipython",
    "version": 3
   },
   "file_extension": ".py",
   "mimetype": "text/x-python",
   "name": "python",
   "nbconvert_exporter": "python",
   "pygments_lexer": "ipython3",
   "version": "3.7.3"
  }
 },
 "nbformat": 4,
 "nbformat_minor": 2
}
